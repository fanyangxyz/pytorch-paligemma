{
 "cells": [
  {
   "cell_type": "code",
   "execution_count": 1,
   "id": "6fd07026-17eb-49b3-8ecb-b1a9be728cd0",
   "metadata": {},
   "outputs": [
    {
     "name": "stderr",
     "output_type": "stream",
     "text": [
      "/usr/lib/python3/dist-packages/torchvision/io/image.py:13: UserWarning: Failed to load image Python extension: '/usr/lib/python3/dist-packages/torchvision/image.so: undefined symbol: _ZN3c1017RegisterOperatorsD1Ev'If you don't plan on using image functionality from `torchvision.io`, you can ignore this warning. Otherwise, there might be something wrong with your environment. Did you have `libjpeg` or `libpng` installed before building `torchvision` from source?\n",
      "  warn(\n",
      "2024-08-20 03:19:59.253889: I tensorflow/core/util/port.cc:110] oneDNN custom operations are on. You may see slightly different numerical results due to floating-point round-off errors from different computation orders. To turn them off, set the environment variable `TF_ENABLE_ONEDNN_OPTS=0`.\n",
      "2024-08-20 03:19:59.296501: I tensorflow/core/platform/cpu_feature_guard.cc:182] This TensorFlow binary is optimized to use available CPU instructions in performance-critical operations.\n",
      "To enable the following instructions: AVX512F AVX512_VNNI, in other operations, rebuild TensorFlow with the appropriate compiler flags.\n",
      "/usr/lib/python3/dist-packages/scipy/__init__.py:146: UserWarning: A NumPy version >=1.17.3 and <1.25.0 is required for this version of SciPy (detected version 1.25.2\n",
      "  warnings.warn(f\"A NumPy version >={np_minversion} and <{np_maxversion}\"\n",
      "/home/ubuntu/.local/lib/python3.10/site-packages/transformers/models/paligemma/configuration_paligemma.py:137: FutureWarning: The `vocab_size` attribute is deprecated and will be removed in v4.44, Please use `text_config.vocab_size` instead.\n",
      "  warnings.warn(\n",
      "`config.hidden_act` is ignored, you should use `config.hidden_activation` instead.\n",
      "Gemma's activation function will be set to `gelu_pytorch_tanh`. Please, use\n",
      "`config.hidden_activation` if you want to override this behaviour.\n",
      "See https://github.com/huggingface/transformers/pull/29402 for more details.\n"
     ]
    },
    {
     "data": {
      "application/vnd.jupyter.widget-view+json": {
       "model_id": "fd8a9a52392943be9bfb5063ebdb70fd",
       "version_major": 2,
       "version_minor": 0
      },
      "text/plain": [
       "Loading checkpoint shards:   0%|          | 0/3 [00:00<?, ?it/s]"
      ]
     },
     "metadata": {},
     "output_type": "display_data"
    },
    {
     "data": {
      "application/vnd.jupyter.widget-view+json": {
       "model_id": "3867bfe5fcdc4530a2dde13876f9c151",
       "version_major": 2,
       "version_minor": 0
      },
      "text/plain": [
       "Loading checkpoint shards:   0%|          | 0/3 [00:00<?, ?it/s]"
      ]
     },
     "metadata": {},
     "output_type": "display_data"
    }
   ],
   "source": [
    "import torch\n",
    "from transformers import AutoProcessor, PaliGemmaProcessor\n",
    "from transformers import PaliGemmaForConditionalGeneration\n",
    "\n",
    "model_id = \"google/paligemma-3b-pt-224\"\n",
    "ft_model_id = \"fanyangxyz33/paligemma_vqav2\"\n",
    "\n",
    "device = 'cuda'\n",
    "processor = PaliGemmaProcessor.from_pretrained(model_id)\n",
    "ft_processor = AutoProcessor.from_pretrained(\"google/paligemma-3b-pt-224\")\n",
    "model = PaliGemmaForConditionalGeneration.from_pretrained(model_id, torch_dtype=torch.bfloat16).to(device)\n",
    "ft_model = PaliGemmaForConditionalGeneration.from_pretrained(ft_model_id, torch_dtype=torch.bfloat16).to(device)"
   ]
  },
  {
   "cell_type": "code",
   "execution_count": 21,
   "id": "e0eb6195-440a-49c8-b056-f01cdf6de8fa",
   "metadata": {},
   "outputs": [],
   "source": [
    "from PIL import Image\n",
    "import requests\n",
    "\n",
    "prompt = \"This is a temple in \"\n",
    "#prompt = \"Where is this temple? \"\n",
    "prompt = \"What is the color of this temple? \"\n",
    "image_file = \"https://chinese-temple.com/cdn/shop/articles/Importance_of_the_Pagoda_in_Chinese_Culture_1728x.jpg?v=1624882205\"\n",
    "raw_image = Image.open(requests.get(image_file, stream=True).raw)"
   ]
  },
  {
   "cell_type": "code",
   "execution_count": 22,
   "id": "8b3d23f4-50bb-40f3-8741-49e3a32e4b1d",
   "metadata": {},
   "outputs": [
    {
     "name": "stdout",
     "output_type": "stream",
     "text": [
      "What is the color of this temple? \n",
      "green\n",
      "\n",
      "Finetuned model:\n",
      "What is the color of this temple? \n",
      "green\n"
     ]
    }
   ],
   "source": [
    "inputs = processor(prompt, raw_image.convert(\"RGB\"), return_tensors=\"pt\").to(device)\n",
    "output = model.generate(**inputs, max_new_tokens=20)\n",
    "ft_output = ft_model.generate(**inputs, max_new_tokens=20)\n",
    "\n",
    "print(processor.decode(output[0], skip_special_tokens=True)) #[len(prompt):])\n",
    "\n",
    "print('\\nFinetuned model:')\n",
    "print(processor.decode(ft_output[0], skip_special_tokens=True)) #[len(prompt):])"
   ]
  },
  {
   "cell_type": "code",
   "execution_count": null,
   "id": "9b2ca43f-2bc7-4cfd-a3bd-afaab04261f2",
   "metadata": {},
   "outputs": [],
   "source": []
  },
  {
   "cell_type": "code",
   "execution_count": null,
   "id": "45632400-9937-42dd-b5d8-99cd87cb2e4f",
   "metadata": {},
   "outputs": [],
   "source": []
  }
 ],
 "metadata": {
  "kernelspec": {
   "display_name": "Python 3 (ipykernel)",
   "language": "python",
   "name": "python3"
  },
  "language_info": {
   "codemirror_mode": {
    "name": "ipython",
    "version": 3
   },
   "file_extension": ".py",
   "mimetype": "text/x-python",
   "name": "python",
   "nbconvert_exporter": "python",
   "pygments_lexer": "ipython3",
   "version": "3.10.12"
  }
 },
 "nbformat": 4,
 "nbformat_minor": 5
}
